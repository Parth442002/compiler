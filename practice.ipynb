{
 "cells": [
  {
   "cell_type": "code",
   "execution_count": 2,
   "metadata": {},
   "outputs": [],
   "source": [
    "import requests\n",
    "import textwrap"
   ]
  },
  {
   "cell_type": "code",
   "execution_count": 7,
   "metadata": {},
   "outputs": [],
   "source": [
    "data=requests.get(\"http://localhost:8000/renfa\")"
   ]
  },
  {
   "cell_type": "code",
   "execution_count": 8,
   "metadata": {},
   "outputs": [],
   "source": [
    "ans=textwrap.dedent(data.json()[\"code\"]).strip()"
   ]
  },
  {
   "cell_type": "code",
   "execution_count": 9,
   "metadata": {},
   "outputs": [
    {
     "name": "stdout",
     "output_type": "stream",
     "text": [
      "```python\n",
      "transition_table = [ [0]*3 for _ in range(20) ]\n",
      "re = input(\"Enter the regular expression : \") re += \" \"\n",
      "i =0\n",
      "j =1 while(i<len(re)):\n",
      "if re[i] == 'a': try:\n",
      "if re[i+1] != '|' and re[i+1] !='*':\n",
      " transition_table[j][0] = j+1\n",
      "j += 1\n",
      "elif re[i+1] == '|' and re[i+2] =='b':\n",
      "transition_table[j][2]=((j+1)*10)+(j+3) j+=1\n",
      "transition_table[j][0]=j+1\n",
      "j+=1\n",
      "transition_table[j][2]=j+3 j+=1 transition_table[j][1]=j+1 j+=1 transition_table[j][2]=j+1 j+=1\n",
      "i=i+2\n",
      "elif re[i+1]=='*':\n",
      "transition_table[j][2]=((j+1)*10)+(j+3) j+=1\n",
      "transition_table[j][0]=j+1\n",
      "j+=1 transition_table[j][2]=((j+1)*10)+(j-1) j+=1\n",
      "except:\n",
      "transition_table[j][0] = j+1\n",
      "elif re[i] == 'b': try:\n",
      "if re[i+1] != '|' and re[i+1] !='*': transition_table[j][1] = j+1\n",
      "j += 1\n",
      "elif re[i+1]=='|' and re[i+2]=='a': transition_table[j][2]=((j+1)*10)+(j+3)\n",
      "\n",
      " j+=1 transition_table[j][1]=j+1 j+=1 transition_table[j][2]=j+3 j+=1 transition_table[j][0]=j+1 j+=1 transition_table[j][2]=j+1 j+=1\n",
      "i=i+2\n",
      "elif re[i+1]=='*': transition_table[j][2]=((j+1)*10)+(j+3) j+=1\n",
      "transition_table[j][1]=j+1\n",
      "j+=1 transition_table[j][2]=((j+1)*10)+(j-1) j+=1\n",
      "except:\n",
      "transition_table[j][1] = j+1\n",
      "elif re[i]=='e' and re[i+1]!='|'and re[i+1]!='*': transition_table[j][2]=j+1\n",
      "j+=1\n",
      "elif re[i]==')' and re[i+1]=='*':\n",
      "transition_table[0][2]=((j+1)*10)+1 transition_table[j][2]=((j+1)*10)+1 j+=1\n",
      "i +=1\n",
      "\n",
      "print (\"Transition function:\") for i in range(j):\n",
      "if(transition_table[i][0]!=0): print(\"q[{0},a]-->{1}\".format(i,transition_table[i][0]))\n",
      "if(transition_table[i][1]!=0): print(\"q[{0},b]-->{1}\".format(i,transition_table[i][1]))\n",
      "if(transition_table[i][2]!=0): if(transition_table[i][2]<10):\n",
      "print(\"q[{0},e]-->{1}\".format(i,transition_table[i][2])) else:\n",
      "print(\"q[{0},e]-->{1} & {2}\".format(i,int(transition_table[i][2]/10),transition_table[i][2]%10))\n",
      "```\n"
     ]
    }
   ],
   "source": [
    "print(\"```python\")\n",
    "print(ans)\n",
    "print(\"```\")"
   ]
  },
  {
   "cell_type": "code",
   "execution_count": 15,
   "metadata": {},
   "outputs": [
    {
     "data": {
      "text/plain": [
       "{'code': 'file = open(\"add.c\", \\'r\\') lines = file.readlines()\\nkeywords = [\"void\", \"main\", \"int\", \"float\", \"bool\", \"if\", \"for\", \"else\", \"while\", \"char\", \"return\"] operators = [\"=\", \"==\", \"+\", \"-\", \"*\", \"/\", \"++\", \"--\", \"+=\", \"-=\", \"!=\", \"||\", \"&&\"] punctuations= [\";\", \"(\", \")\", \"{\", \"}\", \"[\", \"]\"]\\ndef is_int(x): try:\\nEX. NO. 1\\nint(x)\\nreturn True except:\\nreturn False\\nfor line in lines:\\nfor i in line.strip().split(\" \"):\\nif i in keywords:\\nprint (i, \" is a keyword\")\\nelif i in operators:\\nprint (i, \" is an operator\")\\nelif i in punctuations:\\nprint (i, \" is a punctuation\")\\nelif is_int(i):\\nprint (i, \" is a number\")\\nelse:\\nprint (i, \" is an identifier\")\\n'}"
      ]
     },
     "execution_count": 15,
     "metadata": {},
     "output_type": "execute_result"
    }
   ],
   "source": [
    "data.json()"
   ]
  },
  {
   "cell_type": "code",
   "execution_count": 13,
   "metadata": {},
   "outputs": [],
   "source": [
    "from pprint import pprint"
   ]
  },
  {
   "cell_type": "code",
   "execution_count": 14,
   "metadata": {},
   "outputs": [
    {
     "name": "stdout",
     "output_type": "stream",
     "text": [
      "{'code': 'file = open(\"add.c\", \\'r\\') lines = file.readlines()\\n'\n",
      "         'keywords = [\"void\", \"main\", \"int\", \"float\", \"bool\", \"if\", \"for\", '\n",
      "         '\"else\", \"while\", \"char\", \"return\"] operators = [\"=\", \"==\", \"+\", \"-\", '\n",
      "         '\"*\", \"/\", \"++\", \"--\", \"+=\", \"-=\", \"!=\", \"||\", \"&&\"] punctuations= '\n",
      "         '[\";\", \"(\", \")\", \"{\", \"}\", \"[\", \"]\"]\\n'\n",
      "         'def is_int(x): try:\\n'\n",
      "         'EX. NO. 1\\n'\n",
      "         'int(x)\\n'\n",
      "         'return True except:\\n'\n",
      "         'return False\\n'\n",
      "         'for line in lines:\\n'\n",
      "         'for i in line.strip().split(\" \"):\\n'\n",
      "         'if i in keywords:\\n'\n",
      "         'print (i, \" is a keyword\")\\n'\n",
      "         'elif i in operators:\\n'\n",
      "         'print (i, \" is an operator\")\\n'\n",
      "         'elif i in punctuations:\\n'\n",
      "         'print (i, \" is a punctuation\")\\n'\n",
      "         'elif is_int(i):\\n'\n",
      "         'print (i, \" is a number\")\\n'\n",
      "         'else:\\n'\n",
      "         'print (i, \" is an identifier\")\\n'}\n"
     ]
    }
   ],
   "source": [
    "pprint(data.json())"
   ]
  },
  {
   "cell_type": "code",
   "execution_count": null,
   "metadata": {},
   "outputs": [],
   "source": [
    "file = open(\"add.c\",'r') \n",
    "lines = file.readlines()\n",
    "keywords = [\"void\", \"main\", \"int\", \"float\", \"bool\", \"if\", \"for\",\n",
    "\"else\", \"while\", \"char\", \"return\"] \n",
    "operators = [\"=\", \"==\", \"+\", \"-\", '\n",
    "         \"*\", \"/\", \"++\", \"--\", \"+=\", \"-=\", \"!=\", \"||\", \"&&\"] punctuations= '\n",
    "         '[\";\", \"(\", \")\", \"{\", \"}\", \"[\", \"]\"]\\n'\n",
    "         'def is_int(x): try:\\n'\n",
    "         'EX. NO. 1\\n'\n",
    "         'int(x)\\n'\n",
    "         'return True except:\\n'\n",
    "         'return False\\n'\n",
    "         'for line in lines:\\n'\n",
    "         'for i in line.strip().split(\" \"):\\n'\n",
    "         'if i in keywords:\\n'\n",
    "         'print (i, \" is a keyword\")\\n'\n",
    "         'elif i in operators:\\n'\n",
    "         'print (i, \" is an operator\")\\n'\n",
    "         'elif i in punctuations:\\n'\n",
    "         'print (i, \" is a punctuation\")\\n'\n",
    "         'elif is_int(i):\\n'\n",
    "         'print (i, \" is a number\")\\n'\n",
    "         'else:\\n'\n",
    "         'print (i, \" is an identifier\")\\n"
   ]
  }
 ],
 "metadata": {
  "kernelspec": {
   "display_name": "venv",
   "language": "python",
   "name": "python3"
  },
  "language_info": {
   "codemirror_mode": {
    "name": "ipython",
    "version": 3
   },
   "file_extension": ".py",
   "mimetype": "text/x-python",
   "name": "python",
   "nbconvert_exporter": "python",
   "pygments_lexer": "ipython3",
   "version": "3.9.2"
  },
  "orig_nbformat": 4
 },
 "nbformat": 4,
 "nbformat_minor": 2
}
